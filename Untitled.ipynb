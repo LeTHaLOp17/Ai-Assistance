{
 "cells": [
  {
   "cell_type": "code",
   "execution_count": 1,
   "id": "e4588ff3-cc52-49c7-a520-1719365e19c0",
   "metadata": {},
   "outputs": [
    {
     "name": "stdout",
     "output_type": "stream",
     "text": [
      "Hello, AI Assistant!\n"
     ]
    }
   ],
   "source": [
    "print(\"Hello, AI Assistant!\")"
   ]
  },
  {
   "cell_type": "code",
   "execution_count": 2,
   "id": "11215967-20cc-4aa6-a917-62101565606e",
   "metadata": {},
   "outputs": [
    {
     "name": "stdin",
     "output_type": "stream",
     "text": [
      "What is your name?  Ayush\n"
     ]
    },
    {
     "name": "stdout",
     "output_type": "stream",
     "text": [
      "Hello, Ayush! Welcome to your AI assistant journey.\n"
     ]
    }
   ],
   "source": [
    "name = input(\"What is your name? \")\n",
    "print(\"Hello, \" + name + \"! Welcome to your AI assistant journey.\")\n"
   ]
  },
  {
   "cell_type": "code",
   "execution_count": 3,
   "id": "9b5ef8f1-92c2-4721-b784-78cec1751867",
   "metadata": {},
   "outputs": [
    {
     "name": "stdout",
     "output_type": "stream",
     "text": [
      "Welcome to your AI Assistant!\n"
     ]
    },
    {
     "name": "stdin",
     "output_type": "stream",
     "text": [
      "You:  hi\n"
     ]
    },
    {
     "name": "stdout",
     "output_type": "stream",
     "text": [
      "AI: Hello! How can I help you today?\n"
     ]
    },
    {
     "name": "stdin",
     "output_type": "stream",
     "text": [
      "You:  how are you\n"
     ]
    },
    {
     "name": "stdout",
     "output_type": "stream",
     "text": [
      "AI: I'm just a bunch of code, but thanks for asking!\n"
     ]
    },
    {
     "name": "stdin",
     "output_type": "stream",
     "text": [
      "You:  k\n"
     ]
    },
    {
     "name": "stdout",
     "output_type": "stream",
     "text": [
      "AI: Sorry, I don't understand that yet. Try saying 'hello'!\n"
     ]
    },
    {
     "name": "stdin",
     "output_type": "stream",
     "text": [
      "You:  exit\n"
     ]
    },
    {
     "name": "stdout",
     "output_type": "stream",
     "text": [
      "Goodbye! See you next time.\n"
     ]
    }
   ],
   "source": [
    "print(\"Welcome to your AI Assistant!\")\n",
    "\n",
    "# Simple chatbot loop\n",
    "while True:\n",
    "    user_input = input(\"You: \")\n",
    "    if user_input.lower() in ['exit', 'quit']:\n",
    "        print(\"Goodbye! See you next time.\")\n",
    "        break\n",
    "\n",
    "    # Super basic responses just to get started\n",
    "    if \"hello\" in user_input.lower() or \"hi\" in user_input.lower():\n",
    "        print(\"AI: Hello! How can I help you today?\")\n",
    "    elif \"how are you\" in user_input.lower():\n",
    "        print(\"AI: I'm just a bunch of code, but thanks for asking!\")\n",
    "    else:\n",
    "        print(\"AI: Sorry, I don't understand that yet. Try saying 'hello'!\")"
   ]
  },
  {
   "cell_type": "code",
   "execution_count": null,
   "id": "606720dd-a37b-4987-bf19-0748869a0201",
   "metadata": {},
   "outputs": [],
   "source": []
  }
 ],
 "metadata": {
  "kernelspec": {
   "display_name": "Python 3 (ipykernel)",
   "language": "python",
   "name": "python3"
  },
  "language_info": {
   "codemirror_mode": {
    "name": "ipython",
    "version": 3
   },
   "file_extension": ".py",
   "mimetype": "text/x-python",
   "name": "python",
   "nbconvert_exporter": "python",
   "pygments_lexer": "ipython3",
   "version": "3.13.5"
  }
 },
 "nbformat": 4,
 "nbformat_minor": 5
}
